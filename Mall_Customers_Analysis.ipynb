{
 "cells": [
  {
   "cell_type": "markdown",
   "id": "0dcbb26f",
   "metadata": {},
   "source": [
    "# Mall Customers Segmentation Analysis\n",
    "\n",
    "This notebook performs customer segmentation using K-Means clustering on the provided `Mall_Customers.csv` dataset. The analysis includes data loading, exploratory data analysis, preprocessing, clustering, and visualization of the results."
   ]
  },
  {
   "cell_type": "markdown",
   "id": "0c433683",
   "metadata": {},
   "source": [
    "## 1. Load Dataset\n",
    "\n",
    "First, we import the necessary libraries and load the dataset into a pandas DataFrame."
   ]
  },
  {
   "cell_type": "code",
   "execution_count": null,
   "id": "7cfaa45e",
   "metadata": {},
   "outputs": [],
   "source": [
    "import pandas as pd\n",
    "import numpy as np\n",
    "import matplotlib.pyplot as plt\n",
    "import seaborn as sns\n",
    "from sklearn.preprocessing import LabelEncoder, StandardScaler\n",
    "from sklearn.cluster import KMeans\n",
    "\n",
    "# Load the dataset\n",
    "df = pd.read_csv('Mall_Customers.csv')\n",
    "df.head()"
   ]
  },
  {
   "cell_type": "markdown",
   "id": "57503a49",
   "metadata": {},
   "source": [
    "## 2. Explore Dataset\n",
    "\n",
    "Let's explore the dataset to understand its structure and summary statistics."
   ]
  },
  {
   "cell_type": "code",
   "execution_count": null,
   "id": "ce8f3a93",
   "metadata": {},
   "outputs": [],
   "source": [
    "# Display basic info and statistics\n",
    "df.info()\n",
    "df.describe()\n",
    "\n",
    "df['Gender'].value_counts()"
   ]
  },
  {
   "cell_type": "markdown",
   "id": "dbb06ad7",
   "metadata": {},
   "source": [
    "## 3. Data Preprocessing\n",
    "\n",
    "We will check for missing values, encode categorical variables, and scale the numerical features if necessary."
   ]
  },
  {
   "cell_type": "code",
   "execution_count": null,
   "id": "430413ee",
   "metadata": {},
   "outputs": [],
   "source": [
    "# Check for missing values\n",
    "print(df.isnull().sum())\n",
    "\n",
    "# Encode 'Gender' column\n",
    "le = LabelEncoder()\n",
    "df['Gender'] = le.fit_transform(df['Gender'])\n",
    "\n",
    "# Select features for clustering\n",
    "X = df[['Gender', 'Age', 'Annual Income (k$)', 'Spending Score (1-100)']]\n",
    "\n",
    "# Scale features\n",
    "scaler = StandardScaler()\n",
    "X_scaled = scaler.fit_transform(X)"
   ]
  },
  {
   "cell_type": "markdown",
   "id": "318d8f10",
   "metadata": {},
   "source": [
    "## 4. Perform Analysis\n",
    "\n",
    "We will use the K-Means clustering algorithm to segment the customers. First, we will determine the optimal number of clusters using the Elbow Method, then fit the K-Means model and assign cluster labels."
   ]
  },
  {
   "cell_type": "code",
   "execution_count": null,
   "id": "dd02d351",
   "metadata": {},
   "outputs": [],
   "source": [
    "# Find the optimal number of clusters using the Elbow Method\n",
    "wcss = []\n",
    "for i in range(1, 11):\n",
    "    kmeans = KMeans(n_clusters=i, init='k-means++', random_state=42)\n",
    "    kmeans.fit(X_scaled)\n",
    "    wcss.append(kmeans.inertia_)\n",
    "\n",
    "plt.figure(figsize=(8, 4))\n",
    "plt.plot(range(1, 11), wcss, marker='o')\n",
    "plt.title('Elbow Method')\n",
    "plt.xlabel('Number of clusters')\n",
    "plt.ylabel('WCSS')\n",
    "plt.show()\n",
    "\n",
    "# Fit KMeans with optimal clusters (let's assume 5 based on the elbow plot)\n",
    "kmeans = KMeans(n_clusters=5, init='k-means++', random_state=42)\n",
    "clusters = kmeans.fit_predict(X_scaled)\n",
    "df['Cluster'] = clusters\n",
    "df.head()"
   ]
  },
  {
   "cell_type": "markdown",
   "id": "32670369",
   "metadata": {},
   "source": [
    "## 5. Visualize Results\n",
    "\n",
    "Let's visualize the clusters to better understand the customer segments. We'll use scatter plots for key feature pairs and a count plot for cluster sizes."
   ]
  },
  {
   "cell_type": "code",
   "execution_count": null,
   "id": "eae27eaa",
   "metadata": {},
   "outputs": [],
   "source": [
    "# Visualize clusters by Annual Income and Spending Score\n",
    "plt.figure(figsize=(8, 6))\n",
    "sns.scatterplot(\n",
    "    x='Annual Income (k$)', y='Spending Score (1-100)',\n",
    "    hue='Cluster', palette='Set1', data=df, s=60, alpha=0.8\n",
    ")\n",
    "plt.title('Customer Segments by Income and Spending Score')\n",
    "plt.xlabel('Annual Income (k$)')\n",
    "plt.ylabel('Spending Score (1-100)')\n",
    "plt.legend(title='Cluster')\n",
    "plt.show()\n",
    "\n",
    "# Visualize cluster sizes\n",
    "plt.figure(figsize=(6, 4))\n",
    "sns.countplot(x='Cluster', data=df, palette='Set1')\n",
    "plt.title('Number of Customers in Each Cluster')\n",
    "plt.xlabel('Cluster')\n",
    "plt.ylabel('Count')\n",
    "plt.show()\n",
    "\n",
    "# Optional: Cluster centers (inverse transform to original scale)\n",
    "centers = scaler.inverse_transform(kmeans.cluster_centers_)\n",
    "centers_df = pd.DataFrame(centers, columns=X.columns)\n",
    "centers_df"
   ]
  }
 ],
 "metadata": {
  "language_info": {
   "name": "python"
  }
 },
 "nbformat": 4,
 "nbformat_minor": 5
}
